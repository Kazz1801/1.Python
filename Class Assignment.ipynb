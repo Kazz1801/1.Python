{
 "cells": [
  {
   "cell_type": "code",
   "execution_count": null,
   "metadata": {},
   "outputs": [],
   "source": [
    "class SubfieldsInAI():\n",
    "    def Subfields():\n",
    "        List=[\"Machine Learning\",\"Neural Networks\",\"Vision\",\"Robotics\",\"Speech Processing\",\"Natural Language Processing\"]\n",
    "        print(\"Subfields in AI are:\")\n",
    "        for subfield in List:\n",
    "            print(subfield)"
   ]
  },
  {
   "cell_type": "code",
   "execution_count": null,
   "metadata": {},
   "outputs": [],
   "source": [
    "SubfieldsInAI.Subfields()"
   ]
  },
  {
   "cell_type": "code",
   "execution_count": null,
   "metadata": {},
   "outputs": [],
   "source": [
    "class OddEven():\n",
    "    def oddEven():    \n",
    "        num=int(input(\"Enter the number:\"))\n",
    "        if ((num%2)==1):\n",
    "            print(num,\"is Odd number\")\n",
    "            msg=\"Odd number\"\n",
    "        else:\n",
    "            print(num,\"is Even number\")\n",
    "            msg=\"Even number\"\n",
    "        return msg"
   ]
  },
  {
   "cell_type": "code",
   "execution_count": null,
   "metadata": {},
   "outputs": [],
   "source": [
    "OddEven.oddEven()"
   ]
  },
  {
   "cell_type": "code",
   "execution_count": null,
   "metadata": {},
   "outputs": [],
   "source": [
    "msg=oddEven()"
   ]
  },
  {
   "cell_type": "code",
   "execution_count": null,
   "metadata": {},
   "outputs": [],
   "source": [
    "class  EligiblityForMarriage():\n",
    "    def Eligible():\n",
    "        Gender= str(input(\"Your Gender: \"))\n",
    "        Age=int(input (\"Your Age:\"))\n",
    "        if((Gender== \"Male\") and (Age>=21)):\n",
    "            print(\"ELIGIBLE\")\n",
    "        elif((Gender==\"Female\") and (Age>=18)):\n",
    "            print(\"ELIGIBLE\")\n",
    "        else:\n",
    "            print(\"NOT ELIGIBLE\")"
   ]
  },
  {
   "cell_type": "code",
   "execution_count": null,
   "metadata": {},
   "outputs": [],
   "source": [
    "EligiblityForMarriage.Eligible()"
   ]
  },
  {
   "cell_type": "code",
   "execution_count": null,
   "metadata": {},
   "outputs": [],
   "source": [
    "class FindPercent():\n",
    "    def percentage():\n",
    "        Subjects=[\"Subject1\",\"Subject2\",\"Subject3\",\"Subject4\",\"Subject5\"]\n",
    "        Subject1=int(input(\"Subject1:\"))\n",
    "        Subject2=int(input(\"Subject2:\"))\n",
    "        Subject3=int(input(\"Subject3:\"))\n",
    "        Subject4=int(input(\"Subject4:\"))\n",
    "        Subject5=int(input(\"Subject5:\"))\n",
    "        total=Subject1+Subject2+Subject3+Subject4+Subject5\n",
    "        percentage=(total/500.0)*100\n",
    "        print(\"Total\",total)\n",
    "        print(\"Percentage:\", percentage)"
   ]
  },
  {
   "cell_type": "code",
   "execution_count": null,
   "metadata": {},
   "outputs": [],
   "source": [
    "FindPercent.percentage()"
   ]
  },
  {
   "cell_type": "code",
   "execution_count": 12,
   "metadata": {},
   "outputs": [],
   "source": [
    "class triangle():\n",
    "    def triangle():\n",
    "        Height=float(input(\"Height:\"))\n",
    "        Breadth=float(input(\"Breadth:\"))\n",
    "        Area=0.5*Breadth*Height\n",
    "        print(\"Area formula: (Height*Breadth)/2\")\n",
    "        print(\"Area of Triangle:\", Area)\n",
    "        Height1=int(input(\"Height1:\"))\n",
    "        Height2=int(input(\"Height2:\"))\n",
    "        Breadth=int(input(\"Breadth:\"))\n",
    "        perimeter= Height1+Height2+Breadth\n",
    "        print(\"Perimeter Formula: Height1+Height2+Breadth\")\n",
    "        print(\"Perimeter of Triangle:\", perimeter)"
   ]
  },
  {
   "cell_type": "code",
   "execution_count": 13,
   "metadata": {},
   "outputs": [
    {
     "name": "stdout",
     "output_type": "stream",
     "text": [
      "Height:32\n",
      "Breadth:34\n",
      "Area formula: (Height*Breadth)/2\n",
      "Area of Triangle: 544.0\n",
      "Height1:2\n",
      "Height2:4\n",
      "Breadth:4\n",
      "Perimeter Formula: Height1+Height2+Breadth\n",
      "Perimeter of Triangle: 10\n"
     ]
    }
   ],
   "source": [
    "triangle.triangle()"
   ]
  }
 ],
 "metadata": {
  "kernelspec": {
   "display_name": "Python 3",
   "language": "python",
   "name": "python3"
  },
  "language_info": {
   "codemirror_mode": {
    "name": "ipython",
    "version": 3
   },
   "file_extension": ".py",
   "mimetype": "text/x-python",
   "name": "python",
   "nbconvert_exporter": "python",
   "pygments_lexer": "ipython3",
   "version": "3.7.4"
  }
 },
 "nbformat": 4,
 "nbformat_minor": 2
}
